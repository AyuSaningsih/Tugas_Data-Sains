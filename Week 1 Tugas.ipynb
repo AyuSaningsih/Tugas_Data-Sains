{
 "cells": [
  {
   "cell_type": "markdown",
   "id": "3f4b663c",
   "metadata": {},
   "source": [
    "# Week 1 Review Exercises\n"
   ]
  },
  {
   "cell_type": "markdown",
   "id": "ada58c46",
   "metadata": {},
   "source": [
    "Q1. Data Types\n",
    "\n",
    "What is the data type of the variable `pop`?"
   ]
  },
  {
   "cell_type": "code",
   "execution_count": 1,
   "id": "563c66fd",
   "metadata": {},
   "outputs": [],
   "source": [
    "pop = 5.8\n"
   ]
  },
  {
   "cell_type": "code",
   "execution_count": 10,
   "id": "caf77385",
   "metadata": {},
   "outputs": [
    {
     "data": {
      "text/plain": [
       "float"
      ]
     },
     "execution_count": 10,
     "metadata": {},
     "output_type": "execute_result"
    }
   ],
   "source": [
    "# use a suitable function to check your answer\n",
    "\n",
    "type(pop)"
   ]
  },
  {
   "cell_type": "markdown",
   "id": "b19b8600",
   "metadata": {},
   "source": [
    "Q2. Which of the following is a valid variable name of of population below 15 years old?\n"
   ]
  },
  {
   "cell_type": "code",
   "execution_count": 14,
   "id": "fa3e5e24",
   "metadata": {},
   "outputs": [],
   "source": [
    "# which line won't give an error? Comment out the ones that do!\n",
    "15_years_and_below = 12.33\n",
    "%_pop_15_below = 12.33\n",
    "_15&below_pop = 12.33\n",
    "_15_below_pop = 12.33 #this line won't give an error"
   ]
  },
  {
   "cell_type": "markdown",
   "id": "6227288b",
   "metadata": {},
   "source": [
    "Q3. What will be stored in `result`?"
   ]
  },
  {
   "cell_type": "code",
   "execution_count": 15,
   "id": "5e4cfdfd",
   "metadata": {},
   "outputs": [
    {
     "name": "stdout",
     "output_type": "stream",
     "text": [
      "17\n"
     ]
    }
   ],
   "source": [
    "result = 3 + 4 ** 2 - (5 // 2)\n",
    "\n",
    "print(result)"
   ]
  },
  {
   "cell_type": "markdown",
   "id": "4b2b1ba6",
   "metadata": {},
   "source": [
    "Q4. If Singapore has an estimated population of 5.85 million and the land area is 700 square kilometers, what is the population density (number of people per KM)? \n"
   ]
  },
  {
   "cell_type": "code",
   "execution_count": 20,
   "id": "3b3dd8d9",
   "metadata": {},
   "outputs": [
    {
     "name": "stdout",
     "output_type": "stream",
     "text": [
      "0.008357142857142856 /Km^2\n"
     ]
    }
   ],
   "source": [
    "# Estimated total Population of Singapore, in millions\n",
    "total_pop_millions = 5.85\n",
    "\n",
    "# Total land area, in KM\n",
    "land_area = 700\n",
    "\n",
    "# How many people are there per KM?\n",
    "total = total_pop_millions/land_area\n",
    "\n",
    "print(total,\"/Km^2\")"
   ]
  },
  {
   "cell_type": "markdown",
   "id": "8a8b4f48",
   "metadata": {},
   "source": [
    "Q5. Write a function called `pop_density()` that receives two arguments:\n",
    "1. the population, recorded in millions, `population_mil`\n",
    "2. the land area, in square kilometres, `land_area_sqkm`\n",
    "\n",
    "The function should calculate and return the population density. \n"
   ]
  },
  {
   "cell_type": "code",
   "execution_count": 26,
   "id": "cec3ad43",
   "metadata": {},
   "outputs": [
    {
     "name": "stdout",
     "output_type": "stream",
     "text": [
      "Kepadatan penduduk: 0.007142857142857143 penduduk per km^2\n"
     ]
    }
   ],
   "source": [
    "# Write the function here\n",
    "def pop_density(population_mil,land_area_sqkm):\n",
    "\n",
    "    density=population_mil/land_area_sqkm\n",
    "    return density\n",
    "\n",
    "density = pop_density(7.50, 1050)\n",
    "\n",
    "print(f\"Kepadatan penduduk: {density} penduduk per km^2\")"
   ]
  },
  {
   "cell_type": "markdown",
   "id": "9c7711c8",
   "metadata": {},
   "source": [
    "Q6. Call the function you have written to calculate and display the population density of Hong Kong: 7.50 million people in a land area of 1050 km squared \n"
   ]
  },
  {
   "cell_type": "code",
   "execution_count": 27,
   "id": "a2b27625",
   "metadata": {},
   "outputs": [
    {
     "name": "stdout",
     "output_type": "stream",
     "text": [
      "0.007142857142857143\n"
     ]
    }
   ],
   "source": [
    "# Call the function \n",
    "print(density)"
   ]
  },
  {
   "cell_type": "markdown",
   "id": "43cbdd91",
   "metadata": {},
   "source": [
    "Q7. Using the `pop_density()` function, calculate the population density of Singapore and then use comparison operators to compare the population densities of Singapore and Hong Kong.\n",
    "\n",
    "Singapore's population: 5.85 million\n",
    "Singapore's land area: 700 sq km\n",
    "\n",
    "(Data From [Worldometers](http://worldometers.info))\n"
   ]
  },
  {
   "cell_type": "code",
   "execution_count": 30,
   "id": "626d47c8",
   "metadata": {},
   "outputs": [
    {
     "name": "stdout",
     "output_type": "stream",
     "text": [
      "Singapura memiliki tingkat kepadatan penduduk lebih tinggi daripada Hong Kong.\n"
     ]
    }
   ],
   "source": [
    "# fungsi pop_density()\n",
    "def pop_density(population,land_area):\n",
    "    density=population/land_area\n",
    "    return density\n",
    "\n",
    "# Populasi dan area Singapura\n",
    "singapore_population = 5.85 * 10**6  # 5.85 million\n",
    "singapore_area = 700  # 700 km^2\n",
    "\n",
    "# Kalkulasi kepadatan populasi Singapura menggunakan fungsi pop_density()\n",
    "singapore_density = pop_density(singapore_population, singapore_area)\n",
    "\n",
    "# Populasi dan area Hong Kong\n",
    "hong_kong_population = 7.5 * 10**6  # 7.5 million\n",
    "hong_kong_area = 1050  # 1050 km^2\n",
    "\n",
    "# Kalkulasi kepadatan populasi Hong Kong menggunakan fungsi pop_density()\n",
    "hong_kong_density = pop_density(hong_kong_population, hong_kong_area)\n",
    "\n",
    "# Perbadingan kepadatan Singapura dan Hong Kong\n",
    "if singapore_density > hong_kong_density:\n",
    "    print(\"Singapura memiliki tingkat kepadatan penduduk lebih tinggi daripada Hong Kong.\")\n",
    "elif singapore_density < hong_kong_density:\n",
    "    print(\"Singapura memiliki tingkat kepadatan penduduk lebih rendah daripada Hong Kong.\")\n",
    "else:\n",
    "    print(\"Singapura dan Hong Kong tingkat kepadatan penduduk yang sama.\")\n",
    "\n"
   ]
  },
  {
   "cell_type": "markdown",
   "id": "cc1768c5",
   "metadata": {},
   "source": [
    "Q8. Let's add another area to compare: Macao's population is 0.65 million in a land area of 30 sq km. Find out whether Singapore's population density is higher than BOTH Hong Kong and Macao."
   ]
  },
  {
   "cell_type": "code",
   "execution_count": 34,
   "id": "55aeec5c",
   "metadata": {},
   "outputs": [
    {
     "name": "stdout",
     "output_type": "stream",
     "text": [
      "Singapura memiliki tingkat kepadatan penduduk lebih rendah daripada Macao\n"
     ]
    }
   ],
   "source": [
    "# Populasi dan area Macao\n",
    "macao_population = 0.65 * 10**6  # 0.65 million\n",
    "macao_area = 30  # 30 km^2\n",
    "\n",
    "# Kalkulasi kepadatan populasi Macao menggunakan fungsi pop_density()\n",
    "macao_density = pop_density(macao_population, macao_area)\n",
    "\n",
    "# Singapore's population density is higher than both Hong Kong AND Macao\n",
    "if singapore_density > hong_kong_density and singapore_density > macao_density:\n",
    "    print(\"Singapura memiliki tingkat kepadatan penduduk lebih tinggi daripada Hongkong dan Macao.\")\n",
    "elif singapore_density < hong_kong_density:\n",
    "    print(\"Singapura memiliki tingkat kepadatan penduduk lebih rendah daripada Hong Kong.\")\n",
    "elif singapore_density < macao_density:\n",
    "    print(\"Singapura memiliki tingkat kepadatan penduduk lebih rendah daripada Macao\")\n",
    "else:\n",
    "    print(\"Singapura, Hong Kong dan Macao tingkat kepadatan penduduk yang sama.\")"
   ]
  },
  {
   "cell_type": "markdown",
   "id": "66b284ff",
   "metadata": {},
   "source": [
    "Q9. Write a function called compare_density() that receives two arguments representing the population densities of two areas. The function will compare the two values and print one of the following strings:\n",
    "- “Area 1 has higher density”\n",
    "- “Area 2 has higher density”\n",
    "- “Both areas have the same density”"
   ]
  },
  {
   "cell_type": "code",
   "execution_count": 38,
   "id": "63351d63",
   "metadata": {},
   "outputs": [],
   "source": [
    "# Write the function\n",
    "\n",
    "def compare_density(density1, density2):\n",
    "    \n",
    "    if density1 > density2:\n",
    "        print(\"Area 1 has higher density\")\n",
    "    elif density2 > density1:\n",
    "        print(\"Area 2 has higher density\")\n",
    "    else:\n",
    "        print(\"Both areas have the same density\")\n"
   ]
  },
  {
   "cell_type": "markdown",
   "id": "0e7c4ab1",
   "metadata": {},
   "source": [
    "Then we can test the function by passing the values of `sg_density` and `hk_density` as arguments."
   ]
  },
  {
   "cell_type": "code",
   "execution_count": null,
   "id": "6f1a4362",
   "metadata": {},
   "outputs": [],
   "source": [
    "compare_density(sg_density, hk_density)"
   ]
  },
  {
   "cell_type": "markdown",
   "id": "49fae04b",
   "metadata": {},
   "source": [
    "Q10. What will be the result of the following loop?\n",
    "\n",
    "```\n",
    "for year in range(2022, 2031, 2):\n",
    "    print(year)\n",
    "```"
   ]
  },
  {
   "cell_type": "code",
   "execution_count": 39,
   "id": "48ab8047",
   "metadata": {},
   "outputs": [
    {
     "name": "stdout",
     "output_type": "stream",
     "text": [
      "2022\n",
      "2024\n",
      "2026\n",
      "2028\n",
      "2030\n"
     ]
    }
   ],
   "source": [
    "# Type in the code for the loop given above and execute to check your answer\n",
    "\n",
    "for year in range(2022,2031,2):\n",
    "    print(year)"
   ]
  },
  {
   "cell_type": "markdown",
   "id": "359280f1",
   "metadata": {},
   "source": [
    "Q.11 Write a function projected_population() that receives three arguments:\n",
    "- Current population, in millions\n",
    "- Growth rate\n",
    "- Current year\n"
   ]
  },
  {
   "cell_type": "markdown",
   "id": "43b00110",
   "metadata": {},
   "source": [
    "The function should:\n",
    "- set the projected population to the current population\n",
    "- set the projected year to the current year\n",
    "- calculate the difference between the projected population and current population\n",
    "\n",
    "while the difference is between -1 and 1:\n",
    "1. print the projected year and the projected population\n",
    "2. calculate the projected population = projected population + projected population * growth rate / 100\n",
    "3. update the projected year \n",
    "4. recalculate the difference between the projected propulation and current population"
   ]
  },
  {
   "cell_type": "code",
   "execution_count": 56,
   "id": "8e62f54e",
   "metadata": {},
   "outputs": [],
   "source": [
    "def projected_population(current_pop, growth_rate, current_year):\n",
    "    # complete the function according to the guide\n",
    "\n",
    "    projected_population = current_pop\n",
    "    projected_year = current_year\n",
    "    \n",
    "    while -1 <= (projected_population - current_pop) <= 1:\n",
    "        print(f\"Year: {projected_year}, Population: {projected_population:.2f} million\")\n",
    "        \n",
    "        projected_population += projected_population * growth_rate / 100\n",
    "        projected_year += 1"
   ]
  },
  {
   "cell_type": "code",
   "execution_count": 57,
   "id": "35c3f670",
   "metadata": {},
   "outputs": [
    {
     "name": "stdout",
     "output_type": "stream",
     "text": [
      "Thailand's population growth\n",
      "Year: 2020, Population: 69.80 million\n",
      "Year: 2021, Population: 70.01 million\n",
      "Year: 2022, Population: 70.22 million\n",
      "Year: 2023, Population: 70.43 million\n",
      "Year: 2024, Population: 70.64 million\n"
     ]
    }
   ],
   "source": [
    "# testing with Thailand\n",
    "print(\"Thailand's population growth\")\n",
    "projected_population(current_pop = 69.8, growth_rate = 0.3, current_year = 2020)"
   ]
  },
  {
   "cell_type": "markdown",
   "id": "09df059d",
   "metadata": {},
   "source": [
    "Q.12 Write a function called `string_info()` which takes in a string argument and returns four values:\n",
    "- the first 3 characters\n",
    "- last 3 characters\n",
    "- the number of characters in the string\n",
    "- the string with each word capitalized"
   ]
  },
  {
   "cell_type": "code",
   "execution_count": 54,
   "id": "254d3e0c",
   "metadata": {},
   "outputs": [],
   "source": [
    "def string_info(word): \n",
    "    # complete the function\n",
    "    \n",
    "    start = word[:3]\n",
    "    end = word[-3:]\n",
    "    num = len(word)\n",
    "    title = ' '.join(word.title() for word in word.split())\n",
    "\n",
    "    return start, end, num, title"
   ]
  },
  {
   "cell_type": "code",
   "execution_count": 55,
   "id": "5858639b",
   "metadata": {},
   "outputs": [
    {
     "name": "stdout",
     "output_type": "stream",
     "text": [
      "First 3 characters: dat\n",
      "Last 3 characters: nce\n",
      "Number of characters: 12\n",
      "Capitalized string: Data Science\n"
     ]
    }
   ],
   "source": [
    "#calling the function\n",
    "start, end, num, title = string_info(\"data science\")\n",
    "\n",
    "input_word = \"data science\"\n",
    "\n",
    "result = string_info(input_word)\n",
    "print(\"First 3 characters:\", result[0])\n",
    "print(\"Last 3 characters:\", result[1])\n",
    "print(\"Number of characters:\", result[2])\n",
    "print(\"Capitalized string:\", result[3])\n"
   ]
  },
  {
   "cell_type": "code",
   "execution_count": 52,
   "id": "f286a42c",
   "metadata": {},
   "outputs": [
    {
     "name": "stdout",
     "output_type": "stream",
     "text": [
      "('dat', 'nce', 12, 'Data Science')\n"
     ]
    }
   ],
   "source": [
    "# print what's returned\n",
    "print(string_info(\"data science\"))"
   ]
  },
  {
   "cell_type": "markdown",
   "id": "f33e1677",
   "metadata": {},
   "source": [
    "# Congratulations! \n",
    "\n",
    "You have reached the end of this notebook! Hope you have been able to practice and review the fundamental concepts in Python coding and we will do more next week!"
   ]
  }
 ],
 "metadata": {
  "kernelspec": {
   "display_name": "Python 3 (ipykernel)",
   "language": "python",
   "name": "python3"
  },
  "language_info": {
   "codemirror_mode": {
    "name": "ipython",
    "version": 3
   },
   "file_extension": ".py",
   "mimetype": "text/x-python",
   "name": "python",
   "nbconvert_exporter": "python",
   "pygments_lexer": "ipython3",
   "version": "3.11.4"
  }
 },
 "nbformat": 4,
 "nbformat_minor": 5
}
